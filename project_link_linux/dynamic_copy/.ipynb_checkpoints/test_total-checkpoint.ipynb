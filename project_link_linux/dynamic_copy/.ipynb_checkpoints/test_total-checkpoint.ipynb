{
 "cells": [
  {
   "cell_type": "code",
   "execution_count": 191,
   "id": "ede2dfba-948d-4700-998b-db7342ee3a3f",
   "metadata": {},
   "outputs": [],
   "source": [
    "from Windy_for_first import *"
   ]
  },
  {
   "cell_type": "code",
   "execution_count": 2,
   "id": "a8316dec-62db-4b3e-b56c-0a6664490b07",
   "metadata": {},
   "outputs": [],
   "source": [
    "%load_ext autoreload\n",
    "%autoreload 2\n",
    "%matplotlib inline"
   ]
  },
  {
   "cell_type": "code",
   "execution_count": 192,
   "id": "78792c74-bcaa-4d4a-87f7-42576a0c201b",
   "metadata": {},
   "outputs": [],
   "source": [
    "begin_for_api  = \"2010-01-01\""
   ]
  },
  {
   "cell_type": "code",
   "execution_count": null,
   "id": "b3f271de-e9b4-4d67-8d17-3e4fb88a2331",
   "metadata": {},
   "outputs": [],
   "source": []
  },
  {
   "cell_type": "markdown",
   "id": "2e896c3b-fad8-4825-b376-375afdd1e1c3",
   "metadata": {},
   "source": [
    "# 读取指数和风格数据"
   ]
  },
  {
   "cell_type": "code",
   "execution_count": 193,
   "id": "0c55f427-5430-49f2-9a67-aa079601b6aa",
   "metadata": {},
   "outputs": [],
   "source": [
    "import pandas as pd\n",
    "data_code = pd.read_excel(\"/Users/xinyuexu/Public/multi_strategy/wind金融数据.xlsx\",sheet_name=\"WSD_数据字段\")\n",
    "data_code = data_code.query(\"FOF研究==1\")\n",
    "name= data_code[[\"代码\",\"名称\"]].set_index(\"代码\").to_dict()\n",
    "str_code_=\"\"\n",
    "for i,j in enumerate(data_code[\"代码\"]):\n",
    "        \n",
    "    if i >0:\n",
    "        str_code_ = str_code_+\",\"+str(j)\n",
    "    else:\n",
    "        str_code_ = str_code_+str(j)\n"
   ]
  },
  {
   "cell_type": "code",
   "execution_count": null,
   "id": "787c77e8-1f38-497c-ba8e-98cfb119776f",
   "metadata": {},
   "outputs": [],
   "source": []
  },
  {
   "cell_type": "code",
   "execution_count": null,
   "id": "ae76fc66-6842-4344-b423-eda809c2ebf1",
   "metadata": {},
   "outputs": [],
   "source": []
  },
  {
   "cell_type": "code",
   "execution_count": 194,
   "id": "49299b17-657d-47bb-ba9b-fe9ae7e780f5",
   "metadata": {},
   "outputs": [],
   "source": [
    "#error,df= w.edb(str_code_, begin_for_api, today_for_api, \"Fill=Previous\",usedf=True);\n",
    "error,df = w.wsd(str_code_, \"close\", begin_for_api, today_for_api, \"PriceAdj=F\",usedf=True);\n",
    "df.index =pd.to_datetime(df.index,infer_datetime_format=True).to_period(\"D\")\n",
    "\n",
    "df=df.rename(columns=name[\"名称\"])"
   ]
  },
  {
   "cell_type": "code",
   "execution_count": 197,
   "id": "b442209a-d23b-4822-a8b0-ce6bffa6d753",
   "metadata": {},
   "outputs": [],
   "source": [
    "df_return =df.copy()"
   ]
  },
  {
   "cell_type": "code",
   "execution_count": 198,
   "id": "993b845a-628f-4c14-b2f1-1ca54eb8c96e",
   "metadata": {},
   "outputs": [],
   "source": [
    "df_close_month = df_return.resample(\"M\").last()"
   ]
  },
  {
   "cell_type": "code",
   "execution_count": 199,
   "id": "6ddf3db3-2899-49f1-95cc-356c9d015748",
   "metadata": {},
   "outputs": [],
   "source": [
    "import numpy as np\n",
    "df_close_log=df_close_month.transform(np.log)"
   ]
  },
  {
   "cell_type": "code",
   "execution_count": 200,
   "id": "d9ba1b18-e646-4007-81e3-c11897fc7582",
   "metadata": {},
   "outputs": [],
   "source": [
    "df_ret= df_close_log-df_close_log.shift(1)"
   ]
  },
  {
   "cell_type": "markdown",
   "id": "28b96cbe-bf7d-4e2d-81eb-9e0978f69131",
   "metadata": {},
   "source": [
    "# 读取基金个股层面的数据"
   ]
  },
  {
   "cell_type": "code",
   "execution_count": 201,
   "id": "4120da17-017a-4587-b65b-810f61432263",
   "metadata": {},
   "outputs": [],
   "source": [
    "fund_code_ =pd.read_excel(\"/Users/xinyuexu/Public/multi_strategy/data/数据/fund_i_data_July.xlsx\",skiprows=0)\n",
    "fund_code_ = fund_code_.iloc[0].values[1:]"
   ]
  },
  {
   "cell_type": "code",
   "execution_count": 202,
   "id": "6f92fb21-e6b2-4e45-b799-bc9832d6a4dc",
   "metadata": {},
   "outputs": [],
   "source": [
    "\n",
    "str_code_fund=\"\"\n",
    "for i,j in enumerate(fund_code_):\n",
    "        \n",
    "    if i >0:\n",
    "        str_code_fund = str_code_fund+\",\"+str(j)\n",
    "    else:\n",
    "        str_code_fund = str_code_fund+str(j)"
   ]
  },
  {
   "cell_type": "code",
   "execution_count": 203,
   "id": "9aec54ce-38e4-497c-8916-678e42e3142c",
   "metadata": {},
   "outputs": [],
   "source": [
    "#str_code_fund\n",
    "error,df_fund= w.wsd(str_code_fund,\"NAV_adj\", begin_for_api, today_for_api, \"Fill=Previous\",\"Period=M\",usedf=True);\n"
   ]
  },
  {
   "cell_type": "code",
   "execution_count": 204,
   "id": "83e0f449-0572-42ea-bab1-f29779ad6cf7",
   "metadata": {},
   "outputs": [],
   "source": [
    "df_fund.index =pd.to_datetime(df_fund.index,infer_datetime_format=True)\n",
    "#df_fund=df_fund.resample(\"M\").last()\n",
    "df_fund=df_fund.resample(\"M\").last()"
   ]
  },
  {
   "cell_type": "code",
   "execution_count": 205,
   "id": "22a057e7-fdc6-4c7c-8104-d9bd722d904b",
   "metadata": {},
   "outputs": [],
   "source": [
    "error,df_fund_name= w.wsd(str_code_fund,\"name_official\", today_for_api, today_for_api, \"Fill=Previous\",\"Period=M\",usedf=True);\n"
   ]
  },
  {
   "cell_type": "code",
   "execution_count": 206,
   "id": "49e60bbd-73db-43c7-bc2b-a86faa4b369c",
   "metadata": {},
   "outputs": [],
   "source": [
    "fund_name=df_fund_name.to_dict()"
   ]
  },
  {
   "cell_type": "code",
   "execution_count": 207,
   "id": "139ff696-d722-4f6e-8ba7-8dac70e3a45a",
   "metadata": {},
   "outputs": [],
   "source": [
    "df_fund.columns =df_fund.columns.map(fund_name[\"NAME_OFFICIAL\"])"
   ]
  },
  {
   "cell_type": "code",
   "execution_count": 208,
   "id": "8b91e3d2-86d6-4f88-9f52-c8155288c365",
   "metadata": {},
   "outputs": [],
   "source": [
    "df_fund_log=df_fund.transform(np.log)\n",
    "df_fund_ret =df_fund_log-df_fund_log.shift(1)"
   ]
  },
  {
   "cell_type": "code",
   "execution_count": 209,
   "id": "6a71c1e5-3603-4ce3-8ceb-292e20cecdf9",
   "metadata": {},
   "outputs": [],
   "source": [
    "from utility_data_deal import orthogonalized_factors"
   ]
  },
  {
   "cell_type": "markdown",
   "id": "b2066dc3-c232-41c0-af37-e69677e71e85",
   "metadata": {},
   "source": [
    "## 风格指数数据的先验分布等计算"
   ]
  },
  {
   "cell_type": "code",
   "execution_count": 210,
   "id": "fde68513-f557-4df6-bae6-db0189ff6c93",
   "metadata": {},
   "outputs": [],
   "source": [
    "df_return_daily =df_return.transform(np.log)/df_return.transform(np.log).shift(1)-1"
   ]
  },
  {
   "cell_type": "code",
   "execution_count": 212,
   "id": "a7b41ce2-6cf9-4679-bb6f-54f6ef6e74f1",
   "metadata": {},
   "outputs": [],
   "source": [
    "df_retA,df_retB=orthogonalized_factors(df_return_daily,\"MSCI中国A股(人民币)\",data_code[\"名称\"].iloc[1:].values)\n"
   ]
  },
  {
   "cell_type": "code",
   "execution_count": 216,
   "id": "fd34fdbb-cdc8-458d-86d8-b191b4434ce7",
   "metadata": {},
   "outputs": [],
   "source": [
    "df_ret_ratio_mean_monthly=df_retB.resample(\"M\").sum()\n",
    "df_ret_ratio_std_monthly=np.sqrt((df_retB**2).resample(\"M\").sum())\n",
    "df_sharpe_monthly =df_ret_ratio_mean_monthly/df_ret_ratio_std_monthly"
   ]
  },
  {
   "cell_type": "code",
   "execution_count": 243,
   "id": "3bd79ed8-a766-417e-9682-aabe48788520",
   "metadata": {},
   "outputs": [],
   "source": [
    "#[IR_mean,IR_sample_mean,IR_sample_std]=Bootstrap_mean_std_IR(data_index_factor_adj)\n"
   ]
  },
  {
   "cell_type": "code",
   "execution_count": 222,
   "id": "adc79133-ec5b-4729-a5f3-4e163d4ae348",
   "metadata": {},
   "outputs": [],
   "source": [
    "from recombinator.block_bootstrap import circular_block_bootstrap"
   ]
  },
  {
   "cell_type": "code",
   "execution_count": 235,
   "id": "71da52bf-0c51-4501-8c36-8198979aa78b",
   "metadata": {},
   "outputs": [],
   "source": [
    "y_star_cb   = circular_block_bootstrap(df_sharpe_monthly, \n",
    "                               block_length=36, \n",
    "                               replications=500, \n",
    "                               replace=True)"
   ]
  },
  {
   "cell_type": "code",
   "execution_count": null,
   "id": "8e090be2-36c5-44af-b180-74bfd3a392d1",
   "metadata": {},
   "outputs": [],
   "source": [
    "prior_mu = df_sharpe_monthly.mean(axis=0).values\n",
    "prior_std=y_star_cb.mean(axis=1).std(axis=0)"
   ]
  },
  {
   "cell_type": "code",
   "execution_count": null,
   "id": "02d7caeb-1ffd-4e9a-adaf-5ef7c2c751be",
   "metadata": {},
   "outputs": [],
   "source": [
    "\n"
   ]
  },
  {
   "cell_type": "code",
   "execution_count": null,
   "id": "0ee1ce33-e682-4d11-9769-f694b38543ad",
   "metadata": {},
   "outputs": [],
   "source": []
  },
  {
   "cell_type": "code",
   "execution_count": null,
   "id": "80ab2baa-3ed7-4189-9fe8-1801c46dce76",
   "metadata": {},
   "outputs": [],
   "source": []
  },
  {
   "cell_type": "code",
   "execution_count": null,
   "id": "0b4e2e01-cd45-40bd-8a51-a41d7fdc55d1",
   "metadata": {},
   "outputs": [],
   "source": []
  },
  {
   "cell_type": "code",
   "execution_count": null,
   "id": "17966d06-9ba1-408d-a683-ae8d49718eee",
   "metadata": {},
   "outputs": [],
   "source": []
  }
 ],
 "metadata": {
  "kernelspec": {
   "display_name": "Python 3 (ipykernel)",
   "language": "python",
   "name": "python3"
  },
  "language_info": {
   "codemirror_mode": {
    "name": "ipython",
    "version": 3
   },
   "file_extension": ".py",
   "mimetype": "text/x-python",
   "name": "python",
   "nbconvert_exporter": "python",
   "pygments_lexer": "ipython3",
   "version": "3.10.6"
  }
 },
 "nbformat": 4,
 "nbformat_minor": 5
}
