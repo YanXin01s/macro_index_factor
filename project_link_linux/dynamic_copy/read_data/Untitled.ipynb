{
 "cells": [
  {
   "cell_type": "code",
   "execution_count": 1,
   "id": "10a2faf8-8c7b-46cb-a50f-99494d1e1abe",
   "metadata": {},
   "outputs": [],
   "source": [
    "\n",
    "def simulate_gbm_from_returns(n_years=10, n_scenarios=20, mu=0.07, sigma=0.15, periods_per_year=12, start=100.0):\n",
    "    '''\n",
    "    Evolution of an initial stock price using Geometric Brownian Model:\n",
    "        (S_{t+dt} - S_t)/S_t = mu*dt + sigma*sqrt(dt)*xi,\n",
    "    where xi are normal random variable N(0,1). \n",
    "    The equation for percentage returns above is used to generate returns and they are compounded \n",
    "    in order to get the prices.    \n",
    "    Note that default periods_per_year=12 means that the method generates monthly prices (and returns):\n",
    "    change to 52 or 252 for weekly or daily prices and returns, respectively.\n",
    "    The method returns a dataframe of prices and the dataframe of returns.\n",
    "    '''\n",
    "    dt = 1 / periods_per_year\n",
    "    n_steps = int(n_years * periods_per_year)\n",
    "    \n",
    "    # from GBM equation for percentage returns, returns have mean = mu*dt and std = sigma*sqrt(dt)\n",
    "    rets = pd.DataFrame( np.random.normal(loc=mu*dt, scale=sigma*(dt)**(0.5), size=(n_steps, n_scenarios)) )\n",
    "    \n",
    "    # compute prices by compound the generated returns\n",
    "    prices = compound_returns(rets, start=start)\n",
    "    prices = insert_first_row_df(prices, start)\n",
    "    \n",
    "    return prices, rets"
   ]
  },
  {
   "cell_type": "code",
   "execution_count": 7,
   "id": "36f9f2fb-5e21-4160-9c3f-f7e6fb6d2a16",
   "metadata": {},
   "outputs": [],
   "source": [
    "import numpy as np\n",
    "import pandas as pd\n",
    "import math "
   ]
  },
  {
   "cell_type": "code",
   "execution_count": 8,
   "id": "4dc349b7-eee2-4400-9eec-bc9c801a23f4",
   "metadata": {},
   "outputs": [],
   "source": [
    "S0 = 50 #初始股票或指数价格\n",
    "T = 10  #时间\n",
    "r = 0.05  #短期无风险利率\n",
    "vol = 0.2  #股票或指数的波动率\n",
    "#随机种子\n",
    "np.random.seed(1000000)\n",
    "gbm_date = pd.date_range(start='01-01-2010',end='01-01-2020',freq='B')\n",
    "M = len(gbm_date)\n",
    "I = 1\n",
    "dt = 1/252 #按照惯例还是默认252个交易日\n",
    "#布朗运动的标准正态分布size = (M,I)\n",
    "rand = np.random.standard_normal((M,I))\n",
    "#计算相关的数据,生成股票或者指数价格的矩阵\n",
    "S = np.zeros_like(rand)\n",
    "S[0] = S0\n",
    "for t in range(1,M):\n",
    "    S[t] = S[t-1]*np.exp((r-vol**2/2)*dt+vol*rand[t]*math.sqrt(dt))   \n",
    "gbm = pd.DataFrame(S[:,0],index = gbm_date,columns=[\"指数价格\"])\n",
    "#生成股票或指数的收益率,年化方差和波动率（这里仍然假设一年的交易日数为252）\n",
    "gbm[\"日指数收益率\"] = np.log(gbm[\"指数价格\"]/gbm[\"指数价格\"].shift(1))\n",
    "gbm[\"年化方差\"] = 252*np.cumsum(gbm[\"日指数收益率\"]**2)/np.arange(len(gbm))\n",
    "gbm[\"年化波动率\"] = np.sqrt(gbm[\"年化方差\"])\n",
    "#清除空值\n",
    "gbm = gbm.dropna()"
   ]
  },
  {
   "cell_type": "code",
   "execution_count": 12,
   "id": "a6291b29-7b94-498d-9bd6-74324635a908",
   "metadata": {},
   "outputs": [
    {
     "data": {
      "text/plain": [
       "0.0036689774955511864"
      ]
     },
     "execution_count": 12,
     "metadata": {},
     "output_type": "execute_result"
    }
   ],
   "source": [
    "gbm[\"日指数收益率\"].mean()*252"
   ]
  },
  {
   "cell_type": "code",
   "execution_count": 26,
   "id": "fdaf0760-1103-4f1b-aaf4-42dae133f02a",
   "metadata": {},
   "outputs": [
    {
     "data": {
      "text/plain": [
       "0.024729799728613257"
      ]
     },
     "execution_count": 26,
     "metadata": {},
     "output_type": "execute_result"
    }
   ],
   "source": [
    "(gbm[\"指数价格\"]/gbm[\"指数价格\"].shift(1)-1).mean()*252"
   ]
  },
  {
   "cell_type": "code",
   "execution_count": 33,
   "id": "9cfc5ca1-42df-4128-8059-e56c12bdb429",
   "metadata": {},
   "outputs": [],
   "source": [
    "r=0.202690**2+0.0036689774955511864"
   ]
  },
  {
   "cell_type": "code",
   "execution_count": 34,
   "id": "736a0443-f25d-4544-8c88-b990f38094ea",
   "metadata": {},
   "outputs": [
    {
     "data": {
      "text/plain": [
       "0.04475221359555119"
      ]
     },
     "execution_count": 34,
     "metadata": {},
     "output_type": "execute_result"
    }
   ],
   "source": [
    "r"
   ]
  },
  {
   "cell_type": "code",
   "execution_count": 35,
   "id": "81bca159-047e-48c6-b60a-012e612710ec",
   "metadata": {},
   "outputs": [
    {
     "ename": "NameError",
     "evalue": "name 'erk' is not defined",
     "output_type": "error",
     "traceback": [
      "\u001b[0;31m---------------------------------------------------------------------------\u001b[0m",
      "\u001b[0;31mNameError\u001b[0m                                 Traceback (most recent call last)",
      "Input \u001b[0;32mIn [35]\u001b[0m, in \u001b[0;36m<cell line: 1>\u001b[0;34m()\u001b[0m\n\u001b[0;32m----> 1\u001b[0m stock_price, stock_rets \u001b[38;5;241m=\u001b[39m \u001b[43merk\u001b[49m\u001b[38;5;241m.\u001b[39msimulate_gbm_from_prices(n_years\u001b[38;5;241m=\u001b[39mmaturity_short, n_scenarios\u001b[38;5;241m=\u001b[39mn_scenarios, \n\u001b[1;32m      2\u001b[0m                                                        mu\u001b[38;5;241m=\u001b[39m\u001b[38;5;241m0.07\u001b[39m, sigma\u001b[38;5;241m=\u001b[39m\u001b[38;5;241m0.1\u001b[39m, periods_per_year\u001b[38;5;241m=\u001b[39m\u001b[38;5;241m2\u001b[39m, start\u001b[38;5;241m=\u001b[39m\u001b[38;5;241m100.0\u001b[39m)\n",
      "\u001b[0;31mNameError\u001b[0m: name 'erk' is not defined"
     ]
    }
   ],
   "source": []
  },
  {
   "cell_type": "code",
   "execution_count": null,
   "id": "5d213de0-e768-46cc-9f66-5526ce25f675",
   "metadata": {},
   "outputs": [],
   "source": []
  }
 ],
 "metadata": {
  "kernelspec": {
   "display_name": "Python 3 (ipykernel)",
   "language": "python",
   "name": "python3"
  },
  "language_info": {
   "codemirror_mode": {
    "name": "ipython",
    "version": 3
   },
   "file_extension": ".py",
   "mimetype": "text/x-python",
   "name": "python",
   "nbconvert_exporter": "python",
   "pygments_lexer": "ipython3",
   "version": "3.10.6"
  }
 },
 "nbformat": 4,
 "nbformat_minor": 5
}
